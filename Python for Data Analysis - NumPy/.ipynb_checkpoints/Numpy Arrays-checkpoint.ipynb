{
 "cells": [
  {
   "cell_type": "markdown",
   "metadata": {},
   "source": [
    "# NumPy Arrays"
   ]
  },
  {
   "cell_type": "markdown",
   "metadata": {},
   "source": [
    "Numpy arrays comes into two flavour. It come as one dimensional vector or two dimensional matrices. Important thing to remember is that vector or matrix has their own dimension. example: \n",
    "\n",
    "    # Vector1 = [2,8,8] this 3 dimensional vector. Here 2 is length, 8 is width & 8 is height. \n",
    "    # Vector2 = [5,6,4] this 3 dimensional vector. Here 5 is length, 6 is width & 4 is height. \n",
    "    # Vector3 = [3,5,2] this 3 dimensional vector. Here 3 is length, 5 is width & 2 is height. \n",
    "    2) Matrix = [\n",
    "                 [2,5,3],\n",
    "                 [8,6,5],\n",
    "                 [8,4,2]\n",
    "                 ] this is 3 by 3 matrix.\n",
    "             \n",
    "we could write this matrix like [Vector1,Vector2,Vector3]. Here each column vector has 3 dimension.\n",
    "                 \n",
    "Why do we call vector as 1 dimensional array in Numpy Array as each vector can takes infinite number of dimension?\n",
    "\n",
    "Why do we call matrix as 2 dimensional array in Numpy Array as inside matrix each vector can takes infinite number of dimension?"
   ]
  },
  {
   "cell_type": "code",
   "execution_count": null,
   "metadata": {},
   "outputs": [],
   "source": []
  }
 ],
 "metadata": {
  "kernelspec": {
   "display_name": "Python 3",
   "language": "python",
   "name": "python3"
  },
  "language_info": {
   "codemirror_mode": {
    "name": "ipython",
    "version": 3
   },
   "file_extension": ".py",
   "mimetype": "text/x-python",
   "name": "python",
   "nbconvert_exporter": "python",
   "pygments_lexer": "ipython3",
   "version": "3.7.0"
  }
 },
 "nbformat": 4,
 "nbformat_minor": 2
}
